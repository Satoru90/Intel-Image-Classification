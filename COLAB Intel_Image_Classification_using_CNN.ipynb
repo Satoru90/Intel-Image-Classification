{
 "cells": [
  {
   "cell_type": "code",
   "execution_count": 1,
   "metadata": {
    "id": "lafy0c7genH8"
   },
   "outputs": [],
   "source": [
    "from keras_preprocessing.image import ImageDataGenerator"
   ]
  },
  {
   "cell_type": "code",
   "execution_count": 2,
   "metadata": {
    "colab": {
     "base_uri": "https://localhost:8080/"
    },
    "id": "S0wqNxnyqzM3",
    "outputId": "c685b47c-4b4c-4440-ee45-225790b7394d"
   },
   "outputs": [
    {
     "name": "stdout",
     "output_type": "stream",
     "text": [
      "Mounted at /content/gdrive\n"
     ]
    }
   ],
   "source": [
    "from google.colab import drive\n",
    "drive.mount('/content/gdrive', force_remount=False)"
   ]
  },
  {
   "cell_type": "code",
   "execution_count": 3,
   "metadata": {
    "id": "TTqIvwuuq877"
   },
   "outputs": [],
   "source": [
    "import os\n",
    "import pandas as pd\n",
    "import numpy as np\n",
    "import matplotlib.pyplot as plt\n",
    "import cv2\n",
    "import imageio\n",
    "import pathlib\n",
    "%matplotlib inline"
   ]
  },
  {
   "cell_type": "code",
   "execution_count": 4,
   "metadata": {
    "colab": {
     "base_uri": "https://localhost:8080/",
     "height": 35
    },
    "id": "AMZ86OuArdl1",
    "outputId": "e5fb3714-f180-40e8-803b-0cecbff93996"
   },
   "outputs": [
    {
     "data": {
      "application/vnd.google.colaboratory.intrinsic+json": {
       "type": "string"
      },
      "text/plain": [
       "'/device:GPU:0'"
      ]
     },
     "execution_count": 4,
     "metadata": {},
     "output_type": "execute_result"
    }
   ],
   "source": [
    "import tensorflow as tf\n",
    "tf.test.gpu_device_name()"
   ]
  },
  {
   "cell_type": "code",
   "execution_count": 5,
   "metadata": {
    "colab": {
     "base_uri": "https://localhost:8080/"
    },
    "id": "ul-XLDVGrw2u",
    "outputId": "acde63b0-079b-4d82-9d7a-47802e033b2e"
   },
   "outputs": [
    {
     "name": "stdout",
     "output_type": "stream",
     "text": [
      "Found 14073 files belonging to 6 classes.\n",
      "Using 11259 files for training.\n",
      "Found 3000 files belonging to 6 classes.\n",
      "Using 600 files for validation.\n"
     ]
    }
   ],
   "source": [
    "from tensorflow.keras.preprocessing.image import ImageDataGenerator\n",
    "rescaled = ImageDataGenerator(1/255)\n",
    "train_fed = tf.keras.utils.image_dataset_from_directory('/content/gdrive/MyDrive/Colab Notebooks/Intel Image Classification using CNN/seg_train', image_size = (128,128), batch_size=32, label_mode = 'categorical', subset='training', validation_split = 0.2, seed=42)\n",
    "test_fed = tf.keras.utils.image_dataset_from_directory('/content/gdrive/MyDrive/Colab Notebooks/Intel Image Classification using CNN/seg_test', image_size = (128,128), batch_size=32, label_mode = 'categorical', subset='validation', validation_split = 0.2, seed=42)\n"
   ]
  },
  {
   "cell_type": "code",
   "execution_count": 12,
   "metadata": {
    "id": "1smddsAbtsjQ"
   },
   "outputs": [],
   "source": [
    "model = tf.keras.models.Sequential([\n",
    "    tf.keras.layers.Conv2D(16, (3,3), activation='relu', input_shape=(128,128,3)),\n",
    "    tf.keras.layers.MaxPool2D(2,2),  #1st layer\n",
    "    tf.keras.layers.Conv2D(32, (3,3), activation='relu'),\n",
    "    tf.keras.layers.MaxPool2D(2,2),  #2nd layer\n",
    "    tf.keras.layers.Conv2D(64, (3,3), activation='relu'),\n",
    "    tf.keras.layers.MaxPool2D(2,2),  #3rd layer\n",
    "    tf.keras.layers.Conv2D(128, (3,3), activation='relu'),\n",
    "    tf.keras.layers.MaxPool2D(2,2),  #4th layer\n",
    "    tf.keras.layers.Flatten(),\n",
    "    tf.keras.layers.Dense(128, activation='relu'),\n",
    "    tf.keras.layers.Dropout(0.5),\n",
    "    tf.keras.layers.Dense(6, activation='softmax')                                                       \n",
    "])"
   ]
  },
  {
   "cell_type": "code",
   "execution_count": 13,
   "metadata": {
    "colab": {
     "base_uri": "https://localhost:8080/"
    },
    "id": "U-RdMDgd2s8C",
    "outputId": "59971220-93d5-4549-a216-dd1cdee4d380"
   },
   "outputs": [
    {
     "name": "stdout",
     "output_type": "stream",
     "text": [
      "Model: \"sequential_1\"\n",
      "_________________________________________________________________\n",
      " Layer (type)                Output Shape              Param #   \n",
      "=================================================================\n",
      " conv2d_4 (Conv2D)           (None, 126, 126, 16)      448       \n",
      "                                                                 \n",
      " max_pooling2d_4 (MaxPooling  (None, 63, 63, 16)       0         \n",
      " 2D)                                                             \n",
      "                                                                 \n",
      " conv2d_5 (Conv2D)           (None, 61, 61, 32)        4640      \n",
      "                                                                 \n",
      " max_pooling2d_5 (MaxPooling  (None, 30, 30, 32)       0         \n",
      " 2D)                                                             \n",
      "                                                                 \n",
      " conv2d_6 (Conv2D)           (None, 28, 28, 64)        18496     \n",
      "                                                                 \n",
      " max_pooling2d_6 (MaxPooling  (None, 14, 14, 64)       0         \n",
      " 2D)                                                             \n",
      "                                                                 \n",
      " conv2d_7 (Conv2D)           (None, 12, 12, 128)       73856     \n",
      "                                                                 \n",
      " max_pooling2d_7 (MaxPooling  (None, 6, 6, 128)        0         \n",
      " 2D)                                                             \n",
      "                                                                 \n",
      " flatten_1 (Flatten)         (None, 4608)              0         \n",
      "                                                                 \n",
      " dense_2 (Dense)             (None, 128)               589952    \n",
      "                                                                 \n",
      " dropout_1 (Dropout)         (None, 128)               0         \n",
      "                                                                 \n",
      " dense_3 (Dense)             (None, 6)                 774       \n",
      "                                                                 \n",
      "=================================================================\n",
      "Total params: 688,166\n",
      "Trainable params: 688,166\n",
      "Non-trainable params: 0\n",
      "_________________________________________________________________\n"
     ]
    }
   ],
   "source": [
    "model.summary()"
   ]
  },
  {
   "cell_type": "code",
   "execution_count": 14,
   "metadata": {
    "id": "fX2Ih9zN2xAs"
   },
   "outputs": [],
   "source": [
    "from tensorflow.keras.optimizers import Adam\n",
    "model.compile(loss='categorical_crossentropy', optimizer='adam', metrics=['accuracy'])"
   ]
  },
  {
   "cell_type": "code",
   "execution_count": 15,
   "metadata": {
    "id": "HcGaIvHz3LMF"
   },
   "outputs": [],
   "source": [
    "from keras.callbacks import EarlyStopping, ModelCheckpoint, ReduceLROnPlateau\n",
    "import h5py"
   ]
  },
  {
   "cell_type": "code",
   "execution_count": 16,
   "metadata": {
    "id": "cdIbLLpQ3UT7"
   },
   "outputs": [],
   "source": [
    "erl_stop = EarlyStopping(monitor='val_loss', patience=6, restore_best_weights=True)\n",
    "mod_chk = ModelCheckpoint(filepath='/content/gdrive/MyDrive/Colab Notebooks/Intel Image Classification using CNN/my_model.hdf5', monitor='val_loss', save_best_only=True)\n",
    "lr_rate = ReduceLROnPlateau(monitor='val_loss', patience=3, factor=0.1)"
   ]
  },
  {
   "cell_type": "code",
   "execution_count": 17,
   "metadata": {
    "colab": {
     "base_uri": "https://localhost:8080/"
    },
    "id": "vH4win9K31W2",
    "outputId": "aed59209-e444-4283-ac55-fcf57866f023"
   },
   "outputs": [
    {
     "name": "stdout",
     "output_type": "stream",
     "text": [
      "Epoch 1/20\n",
      "352/352 [==============================] - 2966s 8s/step - loss: 1.8419 - accuracy: 0.4488 - val_loss: 1.0163 - val_accuracy: 0.6083 - lr: 0.0010\n",
      "Epoch 2/20\n",
      "352/352 [==============================] - 21s 59ms/step - loss: 1.0474 - accuracy: 0.5975 - val_loss: 0.8009 - val_accuracy: 0.7100 - lr: 0.0010\n",
      "Epoch 3/20\n",
      "352/352 [==============================] - 689s 2s/step - loss: 0.9075 - accuracy: 0.6688 - val_loss: 0.9238 - val_accuracy: 0.6633 - lr: 0.0010\n",
      "Epoch 4/20\n",
      "352/352 [==============================] - 21s 60ms/step - loss: 0.8206 - accuracy: 0.6967 - val_loss: 0.7625 - val_accuracy: 0.7100 - lr: 0.0010\n",
      "Epoch 5/20\n",
      "352/352 [==============================] - 22s 62ms/step - loss: 0.7091 - accuracy: 0.7468 - val_loss: 0.6333 - val_accuracy: 0.7817 - lr: 0.0010\n",
      "Epoch 6/20\n",
      "352/352 [==============================] - 21s 58ms/step - loss: 0.6593 - accuracy: 0.7631 - val_loss: 0.7251 - val_accuracy: 0.7517 - lr: 0.0010\n",
      "Epoch 7/20\n",
      "352/352 [==============================] - 21s 58ms/step - loss: 0.5904 - accuracy: 0.7892 - val_loss: 0.6553 - val_accuracy: 0.7650 - lr: 0.0010\n",
      "Epoch 8/20\n",
      "352/352 [==============================] - 21s 58ms/step - loss: 0.5671 - accuracy: 0.7962 - val_loss: 0.6335 - val_accuracy: 0.7833 - lr: 0.0010\n",
      "Epoch 9/20\n",
      "352/352 [==============================] - 21s 60ms/step - loss: 0.4388 - accuracy: 0.8439 - val_loss: 0.5664 - val_accuracy: 0.8033 - lr: 1.0000e-04\n",
      "Epoch 10/20\n",
      "352/352 [==============================] - 21s 59ms/step - loss: 0.3834 - accuracy: 0.8621 - val_loss: 0.5426 - val_accuracy: 0.8150 - lr: 1.0000e-04\n",
      "Epoch 11/20\n",
      "352/352 [==============================] - 21s 59ms/step - loss: 0.3487 - accuracy: 0.8756 - val_loss: 0.5420 - val_accuracy: 0.8133 - lr: 1.0000e-04\n",
      "Epoch 12/20\n",
      "352/352 [==============================] - 20s 56ms/step - loss: 0.3277 - accuracy: 0.8802 - val_loss: 0.5652 - val_accuracy: 0.8100 - lr: 1.0000e-04\n",
      "Epoch 13/20\n",
      "352/352 [==============================] - 20s 57ms/step - loss: 0.3056 - accuracy: 0.8877 - val_loss: 0.5571 - val_accuracy: 0.8233 - lr: 1.0000e-04\n",
      "Epoch 14/20\n",
      "352/352 [==============================] - 21s 59ms/step - loss: 0.2906 - accuracy: 0.8945 - val_loss: 0.5557 - val_accuracy: 0.8150 - lr: 1.0000e-04\n",
      "Epoch 15/20\n",
      "352/352 [==============================] - 20s 57ms/step - loss: 0.2611 - accuracy: 0.9059 - val_loss: 0.5595 - val_accuracy: 0.8200 - lr: 1.0000e-05\n",
      "Epoch 16/20\n",
      "352/352 [==============================] - 20s 56ms/step - loss: 0.2512 - accuracy: 0.9114 - val_loss: 0.5623 - val_accuracy: 0.8117 - lr: 1.0000e-05\n",
      "Epoch 17/20\n",
      "352/352 [==============================] - 20s 56ms/step - loss: 0.2488 - accuracy: 0.9108 - val_loss: 0.5597 - val_accuracy: 0.8183 - lr: 1.0000e-05\n"
     ]
    }
   ],
   "source": [
    "hist = model.fit(train_fed, shuffle=True, epochs=20, validation_data=test_fed,\n",
    "                           callbacks=[erl_stop, mod_chk, lr_rate], verbose=1)"
   ]
  },
  {
   "cell_type": "code",
   "execution_count": 18,
   "metadata": {
    "colab": {
     "base_uri": "https://localhost:8080/",
     "height": 318
    },
    "id": "r0D2lUQh4wqh",
    "outputId": "60c3909c-919d-48aa-f899-e0447302b82e"
   },
   "outputs": [
    {
     "data": {
      "image/png": "[encoded data removed]",
      "text/plain": [
       "<Figure size 432x288 with 1 Axes>"
      ]
     },
     "metadata": {
      "needs_background": "light"
     },
     "output_type": "display_data"
    }
   ],
   "source": [
    "#Plotting results\n",
    "plt.plot(hist.history['loss'], color='blue', label='train')\n",
    "plt.plot(hist.history['val_loss'], color='orange', label='train')\n",
    "plt.grid(True)\n",
    "plt.title(\"Train & Test loss with epochs\\n\", fontsize=16)\n",
    "plt.xlabel(\"Training epochs\", fontsize=12)\n",
    "plt.ylabel(\"Train & Test loss\", fontsize=12)\n",
    "plt.show();"
   ]
  },
  {
   "cell_type": "code",
   "execution_count": 19,
   "metadata": {
    "colab": {
     "base_uri": "https://localhost:8080/",
     "height": 318
    },
    "id": "UhfvktTq5e30",
    "outputId": "929f672c-78ea-4442-c6f2-ce3da1ca8692"
   },
   "outputs": [
    {
     "data": {
      "image/png": "[encoded data removed]",
      "text/plain": [
       "<Figure size 432x288 with 1 Axes>"
      ]
     },
     "metadata": {
      "needs_background": "light"
     },
     "output_type": "display_data"
    }
   ],
   "source": [
    "#Plotting results with accuracy\n",
    "plt.plot(hist.history['accuracy'], color='blue', label='train')\n",
    "plt.plot(hist.history['val_accuracy'], color='orange', label='train')\n",
    "plt.grid(True)\n",
    "plt.title(\"Train & Test accuracy with epochs\\n\", fontsize=16)\n",
    "plt.xlabel(\"Training epochs\", fontsize=12)\n",
    "plt.ylabel(\"Train & Test accuracy\", fontsize=12)\n",
    "plt.show();"
   ]
  },
  {
   "cell_type": "code",
   "execution_count": 20,
   "metadata": {
    "colab": {
     "base_uri": "https://localhost:8080/"
    },
    "id": "XPfvgLH55m6C",
    "outputId": "01a1a948-82b4-431c-a374-65b778e289c5"
   },
   "outputs": [
    {
     "name": "stdout",
     "output_type": "stream",
     "text": [
      "19/19 [==============================] - 1s 38ms/step - loss: 0.5420 - accuracy: 0.8133\n",
      "81.33\n"
     ]
    }
   ],
   "source": [
    "acc = model.evaluate(test_fed, steps=len(test_fed), verbose=1)\n",
    "print('%.2f'%(acc[1]*100))"
   ]
  },
  {
   "cell_type": "code",
   "execution_count": 20,
   "metadata": {
    "id": "tccQFTjY6AlM"
   },
   "outputs": [],
   "source": []
  }
 ],
 "metadata": {
  "accelerator": "GPU",
  "colab": {
   "provenance": []
  },
  "gpuClass": "standard",
  "kernelspec": {
   "display_name": "Python 3 (ipykernel)",
   "language": "python",
   "name": "python3"
  },
  "language_info": {
   "codemirror_mode": {
    "name": "ipython",
    "version": 3
   },
   "file_extension": ".py",
   "mimetype": "text/x-python",
   "name": "python",
   "nbconvert_exporter": "python",
   "pygments_lexer": "ipython3",
   "version": "3.9.12"
  }
 },
 "nbformat": 4,
 "nbformat_minor": 1
}
