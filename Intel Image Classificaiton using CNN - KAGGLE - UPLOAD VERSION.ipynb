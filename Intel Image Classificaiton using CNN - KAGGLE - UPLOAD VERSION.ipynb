{
 "cells": [
  {
   "cell_type": "code",
   "execution_count": null,
   "metadata": {
    "_cell_guid": "b1076dfc-b9ad-4769-8c92-a6c4dae69d19",
    "_uuid": "8f2839f25d086af736a60e9eeb907d3b93b6e0e5"
   },
   "outputs": [],
   "source": [
    "# This Python 3 environment comes with many helpful analytics libraries installed\n",
    "# It is defined by the kaggle/python Docker image: https://github.com/kaggle/docker-python\n",
    "# For example, here's several helpful packages to load\n",
    "\n",
    "import numpy as np # linear algebra\n",
    "import pandas as pd # data processing, CSV file I/O (e.g. pd.read_csv)\n",
    "\n",
    "# Input data files are available in the read-only \"../input/\" directory\n",
    "# For example, running this (by clicking run or pressing Shift+Enter) will list all files under the input directory\n",
    "\n",
    "import os\n",
    "for dirname, _, filenames in os.walk('/kaggle/input'):\n",
    "    for filename in filenames:\n",
    "        print(os.path.join(dirname, filename))\n",
    "\n",
    "# You can write up to 20GB to the current directory (/kaggle/working/) that gets preserved as output when you create a version using \"Save & Run All\" \n",
    "# You can also write temporary files to /kaggle/temp/, but they won't be saved outside of the current session"
   ]
  },
  {
   "cell_type": "code",
   "execution_count": 1,
   "metadata": {
    "execution": {
     "iopub.execute_input": "2022-11-26T18:00:16.319329Z",
     "iopub.status.busy": "2022-11-26T18:00:16.318663Z",
     "iopub.status.idle": "2022-11-26T18:00:16.408592Z",
     "shell.execute_reply": "2022-11-26T18:00:16.407367Z",
     "shell.execute_reply.started": "2022-11-26T18:00:16.319205Z"
    }
   },
   "outputs": [],
   "source": [
    "from keras_preprocessing.image import ImageDataGenerator"
   ]
  },
  {
   "cell_type": "code",
   "execution_count": 2,
   "metadata": {
    "execution": {
     "iopub.execute_input": "2022-11-26T18:00:16.410610Z",
     "iopub.status.busy": "2022-11-26T18:00:16.410073Z",
     "iopub.status.idle": "2022-11-26T18:00:17.906122Z",
     "shell.execute_reply": "2022-11-26T18:00:17.905188Z",
     "shell.execute_reply.started": "2022-11-26T18:00:16.410575Z"
    }
   },
   "outputs": [],
   "source": [
    "import os\n",
    "import pandas as pd\n",
    "import numpy as np\n",
    "import matplotlib.pyplot as plt\n",
    "import cv2\n",
    "import imageio\n",
    "import pathlib\n",
    "import tensorflow as tf\n",
    "%matplotlib inline"
   ]
  },
  {
   "cell_type": "code",
   "execution_count": 3,
   "metadata": {
    "execution": {
     "iopub.execute_input": "2022-11-26T18:00:18.115707Z",
     "iopub.status.busy": "2022-11-26T18:00:18.115201Z",
     "iopub.status.idle": "2022-11-26T18:00:18.120289Z",
     "shell.execute_reply": "2022-11-26T18:00:18.119261Z",
     "shell.execute_reply.started": "2022-11-26T18:00:18.115677Z"
    }
   },
   "outputs": [],
   "source": [
    "#import tensorflow as tf\n",
    "#tf.test.gpu_device_name()"
   ]
  },
  {
   "cell_type": "code",
   "execution_count": 4,
   "metadata": {
    "execution": {
     "iopub.execute_input": "2022-11-26T18:00:18.871435Z",
     "iopub.status.busy": "2022-11-26T18:00:18.869324Z",
     "iopub.status.idle": "2022-11-26T18:00:28.750841Z",
     "shell.execute_reply": "2022-11-26T18:00:28.749948Z",
     "shell.execute_reply.started": "2022-11-26T18:00:18.871384Z"
    },
    "scrolled": true
   },
   "outputs": [
    {
     "name": "stdout",
     "output_type": "stream",
     "text": [
      "Found 14034 files belonging to 6 classes.\n",
      "Using 11228 files for training.\n"
     ]
    },
    {
     "name": "stderr",
     "output_type": "stream",
     "text": [
      "2022-11-26 18:00:26.621890: I tensorflow/stream_executor/cuda/cuda_gpu_executor.cc:937] successful NUMA node read from SysFS had negative value (-1), but there must be at least one NUMA node, so returning NUMA node zero\n",
      "2022-11-26 18:00:26.622768: I tensorflow/stream_executor/cuda/cuda_gpu_executor.cc:937] successful NUMA node read from SysFS had negative value (-1), but there must be at least one NUMA node, so returning NUMA node zero\n",
      "2022-11-26 18:00:26.633015: I tensorflow/stream_executor/cuda/cuda_gpu_executor.cc:937] successful NUMA node read from SysFS had negative value (-1), but there must be at least one NUMA node, so returning NUMA node zero\n",
      "2022-11-26 18:00:26.633759: I tensorflow/stream_executor/cuda/cuda_gpu_executor.cc:937] successful NUMA node read from SysFS had negative value (-1), but there must be at least one NUMA node, so returning NUMA node zero\n",
      "2022-11-26 18:00:26.634516: I tensorflow/stream_executor/cuda/cuda_gpu_executor.cc:937] successful NUMA node read from SysFS had negative value (-1), but there must be at least one NUMA node, so returning NUMA node zero\n",
      "2022-11-26 18:00:26.635217: I tensorflow/stream_executor/cuda/cuda_gpu_executor.cc:937] successful NUMA node read from SysFS had negative value (-1), but there must be at least one NUMA node, so returning NUMA node zero\n"
     ]
    },
    {
     "name": "stdout",
     "output_type": "stream",
     "text": [
      "Found 3000 files belonging to 6 classes.\n",
      "Using 600 files for validation.\n"
     ]
    },
    {
     "name": "stderr",
     "output_type": "stream",
     "text": [
      "2022-11-26 18:00:26.639310: I tensorflow/core/platform/cpu_feature_guard.cc:142] This TensorFlow binary is optimized with oneAPI Deep Neural Network Library (oneDNN) to use the following CPU instructions in performance-critical operations:  AVX2 AVX512F FMA\n",
      "To enable them in other operations, rebuild TensorFlow with the appropriate compiler flags.\n",
      "2022-11-26 18:00:26.864820: I tensorflow/stream_executor/cuda/cuda_gpu_executor.cc:937] successful NUMA node read from SysFS had negative value (-1), but there must be at least one NUMA node, so returning NUMA node zero\n",
      "2022-11-26 18:00:26.865678: I tensorflow/stream_executor/cuda/cuda_gpu_executor.cc:937] successful NUMA node read from SysFS had negative value (-1), but there must be at least one NUMA node, so returning NUMA node zero\n",
      "2022-11-26 18:00:26.866455: I tensorflow/stream_executor/cuda/cuda_gpu_executor.cc:937] successful NUMA node read from SysFS had negative value (-1), but there must be at least one NUMA node, so returning NUMA node zero\n",
      "2022-11-26 18:00:26.867207: I tensorflow/stream_executor/cuda/cuda_gpu_executor.cc:937] successful NUMA node read from SysFS had negative value (-1), but there must be at least one NUMA node, so returning NUMA node zero\n",
      "2022-11-26 18:00:26.867912: I tensorflow/stream_executor/cuda/cuda_gpu_executor.cc:937] successful NUMA node read from SysFS had negative value (-1), but there must be at least one NUMA node, so returning NUMA node zero\n",
      "2022-11-26 18:00:26.868645: I tensorflow/stream_executor/cuda/cuda_gpu_executor.cc:937] successful NUMA node read from SysFS had negative value (-1), but there must be at least one NUMA node, so returning NUMA node zero\n",
      "2022-11-26 18:00:28.153868: I tensorflow/stream_executor/cuda/cuda_gpu_executor.cc:937] successful NUMA node read from SysFS had negative value (-1), but there must be at least one NUMA node, so returning NUMA node zero\n",
      "2022-11-26 18:00:28.155054: I tensorflow/stream_executor/cuda/cuda_gpu_executor.cc:937] successful NUMA node read from SysFS had negative value (-1), but there must be at least one NUMA node, so returning NUMA node zero\n",
      "2022-11-26 18:00:28.156055: I tensorflow/stream_executor/cuda/cuda_gpu_executor.cc:937] successful NUMA node read from SysFS had negative value (-1), but there must be at least one NUMA node, so returning NUMA node zero\n",
      "2022-11-26 18:00:28.157125: I tensorflow/stream_executor/cuda/cuda_gpu_executor.cc:937] successful NUMA node read from SysFS had negative value (-1), but there must be at least one NUMA node, so returning NUMA node zero\n",
      "2022-11-26 18:00:28.158131: I tensorflow/stream_executor/cuda/cuda_gpu_executor.cc:937] successful NUMA node read from SysFS had negative value (-1), but there must be at least one NUMA node, so returning NUMA node zero\n",
      "2022-11-26 18:00:28.159087: I tensorflow/core/common_runtime/gpu/gpu_device.cc:1510] Created device /job:localhost/replica:0/task:0/device:GPU:0 with 13789 MB memory:  -> device: 0, name: Tesla T4, pci bus id: 0000:00:04.0, compute capability: 7.5\n",
      "2022-11-26 18:00:28.159506: I tensorflow/stream_executor/cuda/cuda_gpu_executor.cc:937] successful NUMA node read from SysFS had negative value (-1), but there must be at least one NUMA node, so returning NUMA node zero\n",
      "2022-11-26 18:00:28.160452: I tensorflow/core/common_runtime/gpu/gpu_device.cc:1510] Created device /job:localhost/replica:0/task:0/device:GPU:1 with 13789 MB memory:  -> device: 1, name: Tesla T4, pci bus id: 0000:00:05.0, compute capability: 7.5\n"
     ]
    }
   ],
   "source": [
    "from tensorflow.keras.preprocessing.image import ImageDataGenerator\n",
    "rescaled = ImageDataGenerator(1/255)\n",
    "train_fed = tf.keras.utils.image_dataset_from_directory('/kaggle/input/intel-image-classification/seg_train/seg_train', image_size = (128,128), batch_size=32, label_mode = 'categorical', subset='training', validation_split = 0.2, seed=42)\n",
    "test_fed = tf.keras.utils.image_dataset_from_directory('/kaggle/input/intel-image-classification/seg_test/seg_test', image_size = (128,128), batch_size=32, label_mode = 'categorical', subset='validation', validation_split = 0.2, seed=42)"
   ]
  },
  {
   "cell_type": "code",
   "execution_count": 62,
   "metadata": {
    "execution": {
     "iopub.execute_input": "2022-11-26T19:38:43.420328Z",
     "iopub.status.busy": "2022-11-26T19:38:43.419629Z",
     "iopub.status.idle": "2022-11-26T19:38:43.581561Z",
     "shell.execute_reply": "2022-11-26T19:38:43.572876Z",
     "shell.execute_reply.started": "2022-11-26T19:38:43.420256Z"
    }
   },
   "outputs": [],
   "source": [
    "model = tf.keras.models.Sequential([\n",
    "    tf.keras.layers.Conv2D(16, (3,3), activation='relu', input_shape=(128,128,3)),\n",
    "    tf.keras.layers.Conv2D(16, (3,3), activation='relu'),\n",
    "    tf.keras.layers.Conv2D(16, (3,3), activation='relu'),\n",
    "    tf.keras.layers.MaxPool2D(2,2),  #1st layer\n",
    "    tf.keras.layers.Dropout(0.2),\n",
    "    tf.keras.layers.Conv2D(32, (3,3), activation='relu'),\n",
    "    tf.keras.layers.Conv2D(32, (3,3), activation='relu'),\n",
    "    tf.keras.layers.Conv2D(32, (3,3), activation='relu'),\n",
    "    tf.keras.layers.MaxPool2D(2,2),  #2nd layer\n",
    "    tf.keras.layers.Dropout(0.2),\n",
    "    tf.keras.layers.Conv2D(64, (3,3), activation='relu'),\n",
    "    tf.keras.layers.Conv2D(64, (3,3), activation='relu'),\n",
    "    tf.keras.layers.Conv2D(64, (3,3), activation='relu'),\n",
    "    tf.keras.layers.MaxPool2D(2,2),  #3rd layer\n",
    "    tf.keras.layers.Dropout(0.2),\n",
    "    tf.keras.layers.Conv2D(128, (3,3), activation='relu'),\n",
    "    tf.keras.layers.Conv2D(128, (3,3), activation='relu'),\n",
    "    tf.keras.layers.Conv2D(128, (3,3), activation='relu'),\n",
    "    tf.keras.layers.MaxPool2D(2,2),  #4th layer\n",
    "    tf.keras.layers.Flatten(),\n",
    "    tf.keras.layers.Dense(128, activation='relu'),\n",
    "    tf.keras.layers.Dropout(0.2),\n",
    "    tf.keras.layers.Dense(6, activation='softmax')                                                       \n",
    "])"
   ]
  },
  {
   "cell_type": "code",
   "execution_count": 63,
   "metadata": {
    "execution": {
     "iopub.execute_input": "2022-11-26T19:38:43.591712Z",
     "iopub.status.busy": "2022-11-26T19:38:43.588686Z",
     "iopub.status.idle": "2022-11-26T19:38:43.605926Z",
     "shell.execute_reply": "2022-11-26T19:38:43.604925Z",
     "shell.execute_reply.started": "2022-11-26T19:38:43.591668Z"
    }
   },
   "outputs": [
    {
     "name": "stdout",
     "output_type": "stream",
     "text": [
      "Model: \"sequential_5\"\n",
      "_________________________________________________________________\n",
      "Layer (type)                 Output Shape              Param #   \n",
      "=================================================================\n",
      "conv2d_56 (Conv2D)           (None, 126, 126, 16)      448       \n",
      "_________________________________________________________________\n",
      "conv2d_57 (Conv2D)           (None, 124, 124, 16)      2320      \n",
      "_________________________________________________________________\n",
      "conv2d_58 (Conv2D)           (None, 122, 122, 16)      2320      \n",
      "_________________________________________________________________\n",
      "max_pooling2d_20 (MaxPooling (None, 61, 61, 16)        0         \n",
      "_________________________________________________________________\n",
      "dropout_20 (Dropout)         (None, 61, 61, 16)        0         \n",
      "_________________________________________________________________\n",
      "conv2d_59 (Conv2D)           (None, 59, 59, 32)        4640      \n",
      "_________________________________________________________________\n",
      "conv2d_60 (Conv2D)           (None, 57, 57, 32)        9248      \n",
      "_________________________________________________________________\n",
      "conv2d_61 (Conv2D)           (None, 55, 55, 32)        9248      \n",
      "_________________________________________________________________\n",
      "max_pooling2d_21 (MaxPooling (None, 27, 27, 32)        0         \n",
      "_________________________________________________________________\n",
      "dropout_21 (Dropout)         (None, 27, 27, 32)        0         \n",
      "_________________________________________________________________\n",
      "conv2d_62 (Conv2D)           (None, 25, 25, 64)        18496     \n",
      "_________________________________________________________________\n",
      "conv2d_63 (Conv2D)           (None, 23, 23, 64)        36928     \n",
      "_________________________________________________________________\n",
      "conv2d_64 (Conv2D)           (None, 21, 21, 64)        36928     \n",
      "_________________________________________________________________\n",
      "max_pooling2d_22 (MaxPooling (None, 10, 10, 64)        0         \n",
      "_________________________________________________________________\n",
      "dropout_22 (Dropout)         (None, 10, 10, 64)        0         \n",
      "_________________________________________________________________\n",
      "conv2d_65 (Conv2D)           (None, 8, 8, 128)         73856     \n",
      "_________________________________________________________________\n",
      "conv2d_66 (Conv2D)           (None, 6, 6, 128)         147584    \n",
      "_________________________________________________________________\n",
      "conv2d_67 (Conv2D)           (None, 4, 4, 128)         147584    \n",
      "_________________________________________________________________\n",
      "max_pooling2d_23 (MaxPooling (None, 2, 2, 128)         0         \n",
      "_________________________________________________________________\n",
      "flatten_5 (Flatten)          (None, 512)               0         \n",
      "_________________________________________________________________\n",
      "dense_10 (Dense)             (None, 128)               65664     \n",
      "_________________________________________________________________\n",
      "dropout_23 (Dropout)         (None, 128)               0         \n",
      "_________________________________________________________________\n",
      "dense_11 (Dense)             (None, 6)                 774       \n",
      "=================================================================\n",
      "Total params: 556,038\n",
      "Trainable params: 556,038\n",
      "Non-trainable params: 0\n",
      "_________________________________________________________________\n"
     ]
    }
   ],
   "source": [
    "model.summary()"
   ]
  },
  {
   "cell_type": "code",
   "execution_count": 64,
   "metadata": {
    "execution": {
     "iopub.execute_input": "2022-11-26T19:38:43.776383Z",
     "iopub.status.busy": "2022-11-26T19:38:43.776045Z",
     "iopub.status.idle": "2022-11-26T19:38:43.788340Z",
     "shell.execute_reply": "2022-11-26T19:38:43.787278Z",
     "shell.execute_reply.started": "2022-11-26T19:38:43.776350Z"
    }
   },
   "outputs": [],
   "source": [
    "from tensorflow.keras.optimizers import Adam\n",
    "model.compile(loss='categorical_crossentropy', optimizer='adam', metrics=['accuracy'])"
   ]
  },
  {
   "cell_type": "code",
   "execution_count": 65,
   "metadata": {
    "execution": {
     "iopub.execute_input": "2022-11-26T19:38:43.986918Z",
     "iopub.status.busy": "2022-11-26T19:38:43.986641Z",
     "iopub.status.idle": "2022-11-26T19:38:43.991854Z",
     "shell.execute_reply": "2022-11-26T19:38:43.990956Z",
     "shell.execute_reply.started": "2022-11-26T19:38:43.986892Z"
    }
   },
   "outputs": [],
   "source": [
    "from keras.callbacks import EarlyStopping, ModelCheckpoint, ReduceLROnPlateau\n",
    "import h5py"
   ]
  },
  {
   "cell_type": "code",
   "execution_count": 66,
   "metadata": {
    "execution": {
     "iopub.execute_input": "2022-11-26T19:38:44.317669Z",
     "iopub.status.busy": "2022-11-26T19:38:44.317050Z",
     "iopub.status.idle": "2022-11-26T19:38:44.323418Z",
     "shell.execute_reply": "2022-11-26T19:38:44.322168Z",
     "shell.execute_reply.started": "2022-11-26T19:38:44.317629Z"
    }
   },
   "outputs": [],
   "source": [
    "erl_stop = EarlyStopping(monitor='val_loss', patience=6, restore_best_weights=True)\n",
    "mod_chk = ModelCheckpoint(filepath='/kaggle/working/my_model.hdf5', monitor='val_loss', save_best_only=True)\n",
    "lr_rate = ReduceLROnPlateau(monitor='val_loss', patience=3, factor=0.1)"
   ]
  },
  {
   "cell_type": "code",
   "execution_count": 67,
   "metadata": {
    "execution": {
     "iopub.execute_input": "2022-11-26T19:38:44.644558Z",
     "iopub.status.busy": "2022-11-26T19:38:44.644295Z",
     "iopub.status.idle": "2022-11-26T19:44:22.946990Z",
     "shell.execute_reply": "2022-11-26T19:44:22.946024Z",
     "shell.execute_reply.started": "2022-11-26T19:38:44.644534Z"
    },
    "scrolled": true
   },
   "outputs": [
    {
     "name": "stdout",
     "output_type": "stream",
     "text": [
      "Epoch 1/20\n",
      "351/351 [==============================] - 15s 41ms/step - loss: 1.4573 - accuracy: 0.3457 - val_loss: 1.1650 - val_accuracy: 0.4800\n",
      "Epoch 2/20\n",
      "351/351 [==============================] - 15s 41ms/step - loss: 1.1173 - accuracy: 0.5208 - val_loss: 1.0077 - val_accuracy: 0.5650\n",
      "Epoch 3/20\n",
      "351/351 [==============================] - 15s 41ms/step - loss: 0.9706 - accuracy: 0.6068 - val_loss: 0.9127 - val_accuracy: 0.6500\n",
      "Epoch 4/20\n",
      "351/351 [==============================] - 15s 43ms/step - loss: 0.8711 - accuracy: 0.6659 - val_loss: 0.8190 - val_accuracy: 0.7067\n",
      "Epoch 5/20\n",
      "351/351 [==============================] - 15s 41ms/step - loss: 0.7923 - accuracy: 0.6977 - val_loss: 0.8603 - val_accuracy: 0.6700\n",
      "Epoch 6/20\n",
      "351/351 [==============================] - 15s 41ms/step - loss: 0.7599 - accuracy: 0.7166 - val_loss: 0.8159 - val_accuracy: 0.7133\n",
      "Epoch 7/20\n",
      "351/351 [==============================] - 15s 41ms/step - loss: 0.7010 - accuracy: 0.7408 - val_loss: 0.7310 - val_accuracy: 0.7283\n",
      "Epoch 8/20\n",
      "351/351 [==============================] - 15s 42ms/step - loss: 0.6620 - accuracy: 0.7531 - val_loss: 0.7500 - val_accuracy: 0.7567\n",
      "Epoch 9/20\n",
      "351/351 [==============================] - 14s 40ms/step - loss: 0.6229 - accuracy: 0.7710 - val_loss: 0.6858 - val_accuracy: 0.7667\n",
      "Epoch 10/20\n",
      "351/351 [==============================] - 15s 41ms/step - loss: 0.6200 - accuracy: 0.7726 - val_loss: 0.6535 - val_accuracy: 0.7733\n",
      "Epoch 11/20\n",
      "351/351 [==============================] - 14s 40ms/step - loss: 0.5800 - accuracy: 0.7921 - val_loss: 0.6814 - val_accuracy: 0.7800\n",
      "Epoch 12/20\n",
      "351/351 [==============================] - 14s 40ms/step - loss: 0.5744 - accuracy: 0.7885 - val_loss: 0.6877 - val_accuracy: 0.7483\n",
      "Epoch 13/20\n",
      "351/351 [==============================] - 16s 44ms/step - loss: 0.5411 - accuracy: 0.8013 - val_loss: 0.6632 - val_accuracy: 0.7550\n",
      "Epoch 14/20\n",
      "351/351 [==============================] - 16s 46ms/step - loss: 0.4508 - accuracy: 0.8336 - val_loss: 0.5831 - val_accuracy: 0.7933\n",
      "Epoch 15/20\n",
      "351/351 [==============================] - 15s 41ms/step - loss: 0.4200 - accuracy: 0.8431 - val_loss: 0.5817 - val_accuracy: 0.8000\n",
      "Epoch 16/20\n",
      "351/351 [==============================] - 14s 40ms/step - loss: 0.4009 - accuracy: 0.8532 - val_loss: 0.5869 - val_accuracy: 0.8050\n",
      "Epoch 17/20\n",
      "351/351 [==============================] - 15s 41ms/step - loss: 0.3924 - accuracy: 0.8566 - val_loss: 0.5886 - val_accuracy: 0.8083\n",
      "Epoch 18/20\n",
      "351/351 [==============================] - 14s 40ms/step - loss: 0.3770 - accuracy: 0.8613 - val_loss: 0.5744 - val_accuracy: 0.8100\n",
      "Epoch 19/20\n",
      "351/351 [==============================] - 15s 41ms/step - loss: 0.3706 - accuracy: 0.8652 - val_loss: 0.5862 - val_accuracy: 0.8100\n",
      "Epoch 20/20\n",
      "351/351 [==============================] - 14s 39ms/step - loss: 0.3633 - accuracy: 0.8660 - val_loss: 0.5834 - val_accuracy: 0.8167\n"
     ]
    }
   ],
   "source": [
    "hist = model.fit(train_fed, shuffle=True, epochs=20, validation_data=test_fed,\n",
    "                           callbacks=[erl_stop, mod_chk, lr_rate], verbose=1)"
   ]
  },
  {
   "cell_type": "code",
   "execution_count": 68,
   "metadata": {
    "execution": {
     "iopub.execute_input": "2022-11-26T19:44:22.949660Z",
     "iopub.status.busy": "2022-11-26T19:44:22.949001Z",
     "iopub.status.idle": "2022-11-26T19:44:23.194182Z",
     "shell.execute_reply": "2022-11-26T19:44:23.193197Z",
     "shell.execute_reply.started": "2022-11-26T19:44:22.949620Z"
    }
   },
   "outputs": [
    {
     "data": {
      "image/png": "[encoded data removed]",
      "text/plain": [
       "<Figure size 432x288 with 1 Axes>"
      ]
     },
     "metadata": {
      "needs_background": "light"
     },
     "output_type": "display_data"
    }
   ],
   "source": [
    "#Plotting results\n",
    "plt.plot(hist.history['loss'], color='blue', label='train')\n",
    "plt.plot(hist.history['val_loss'], color='orange', label='train')\n",
    "plt.grid(True)\n",
    "plt.title(\"Train & Test loss with epochs\\n\", fontsize=16)\n",
    "plt.xlabel(\"Training epochs\", fontsize=12)\n",
    "plt.ylabel(\"Train & Test loss\", fontsize=12)\n",
    "plt.show();"
   ]
  },
  {
   "cell_type": "code",
   "execution_count": 69,
   "metadata": {
    "execution": {
     "iopub.execute_input": "2022-11-26T19:44:23.196275Z",
     "iopub.status.busy": "2022-11-26T19:44:23.195896Z",
     "iopub.status.idle": "2022-11-26T19:44:23.404314Z",
     "shell.execute_reply": "2022-11-26T19:44:23.403328Z",
     "shell.execute_reply.started": "2022-11-26T19:44:23.196238Z"
    }
   },
   "outputs": [
    {
     "data": {
      "image/png": "[encoded data removed]",
      "text/plain": [
       "<Figure size 432x288 with 1 Axes>"
      ]
     },
     "metadata": {
      "needs_background": "light"
     },
     "output_type": "display_data"
    }
   ],
   "source": [
    "#Plotting results with accuracy\n",
    "plt.plot(hist.history['accuracy'], color='blue', label='train')\n",
    "plt.plot(hist.history['val_accuracy'], color='orange', label='train')\n",
    "plt.grid(True)\n",
    "plt.title(\"Train & Test accuracy with epochs\\n\", fontsize=16)\n",
    "plt.xlabel(\"Training epochs\", fontsize=12)\n",
    "plt.ylabel(\"Train & Test accuracy\", fontsize=12)\n",
    "plt.show();"
   ]
  },
  {
   "cell_type": "code",
   "execution_count": 70,
   "metadata": {
    "execution": {
     "iopub.execute_input": "2022-11-26T19:44:23.406951Z",
     "iopub.status.busy": "2022-11-26T19:44:23.406527Z",
     "iopub.status.idle": "2022-11-26T19:44:24.069075Z",
     "shell.execute_reply": "2022-11-26T19:44:24.068101Z",
     "shell.execute_reply.started": "2022-11-26T19:44:23.406912Z"
    }
   },
   "outputs": [
    {
     "name": "stdout",
     "output_type": "stream",
     "text": [
      "19/19 [==============================] - 1s 21ms/step - loss: 0.5834 - accuracy: 0.8167\n",
      "81.67\n"
     ]
    }
   ],
   "source": [
    "acc = model.evaluate(test_fed, steps=len(test_fed), verbose=1)\n",
    "print('%.2f'%(acc[1]*100))"
   ]
  },
  {
   "cell_type": "code",
   "execution_count": null,
   "metadata": {},
   "outputs": [],
   "source": []
  }
 ],
 "metadata": {
  "kernelspec": {
   "display_name": "Python 3 (ipykernel)",
   "language": "python",
   "name": "python3"
  },
  "language_info": {
   "codemirror_mode": {
    "name": "ipython",
    "version": 3
   },
   "file_extension": ".py",
   "mimetype": "text/x-python",
   "name": "python",
   "nbconvert_exporter": "python",
   "pygments_lexer": "ipython3",
   "version": "3.9.12"
  }
 },
 "nbformat": 4,
 "nbformat_minor": 4
}
